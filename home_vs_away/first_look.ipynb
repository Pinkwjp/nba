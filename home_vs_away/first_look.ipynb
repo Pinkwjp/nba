{
 "cells": [
  {
   "cell_type": "code",
   "execution_count": 1,
   "metadata": {},
   "outputs": [
    {
     "name": "stdout",
     "output_type": "stream",
     "text": [
      "c:\\CODE\\proj\\nba\\home_vs_away\n"
     ]
    }
   ],
   "source": [
    "from pathlib import Path\n",
    "\n",
    "print(Path().cwd())"
   ]
  },
  {
   "cell_type": "code",
   "execution_count": 2,
   "metadata": {},
   "outputs": [],
   "source": [
    "games_csv_path = Path('../data/nba_games_data/games.csv') \n",
    "assert games_csv_path.exists()"
   ]
  },
  {
   "cell_type": "code",
   "execution_count": 3,
   "metadata": {},
   "outputs": [
    {
     "name": "stdout",
     "output_type": "stream",
     "text": [
      "(25796, 21)\n"
     ]
    }
   ],
   "source": [
    "import pandas as pd\n",
    "import numpy as np\n",
    "\n",
    "games_df = pd.read_csv(games_csv_path)\n",
    "print(games_df.shape)"
   ]
  },
  {
   "cell_type": "code",
   "execution_count": 4,
   "metadata": {},
   "outputs": [
    {
     "name": "stdout",
     "output_type": "stream",
     "text": [
      "  GAME_DATE_EST   GAME_ID GAME_STATUS_TEXT  HOME_TEAM_ID  VISITOR_TEAM_ID  \\\n",
      "0    2022-03-12  22101005            Final    1610612748       1610612750   \n",
      "1    2022-03-12  22101006            Final    1610612741       1610612739   \n",
      "\n",
      "   SEASON  TEAM_ID_home  PTS_home  FG_PCT_home  FT_PCT_home  ...  AST_home  \\\n",
      "0    2021    1610612748     104.0        0.398        0.760  ...      23.0   \n",
      "1    2021    1610612741     101.0        0.443        0.933  ...      20.0   \n",
      "\n",
      "   REB_home  TEAM_ID_away  PTS_away  FG_PCT_away  FT_PCT_away  FG3_PCT_away  \\\n",
      "0      53.0    1610612750     113.0        0.422        0.875         0.357   \n",
      "1      46.0    1610612739      91.0        0.419        0.824         0.208   \n",
      "\n",
      "   AST_away  REB_away  HOME_TEAM_WINS  \n",
      "0      21.0      46.0               0  \n",
      "1      19.0      40.0               1  \n",
      "\n",
      "[2 rows x 21 columns]\n"
     ]
    }
   ],
   "source": [
    "print(games_df.head(2))"
   ]
  },
  {
   "cell_type": "code",
   "execution_count": 5,
   "metadata": {},
   "outputs": [
    {
     "name": "stdout",
     "output_type": "stream",
     "text": [
      "      GAME_DATE_EST   GAME_ID GAME_STATUS_TEXT  HOME_TEAM_ID  VISITOR_TEAM_ID  \\\n",
      "25794    2014-10-05  11400002            Final    1610612761       1610612758   \n",
      "25795    2014-10-04  11400001            Final    1610612748       1610612740   \n",
      "\n",
      "       SEASON  TEAM_ID_home  PTS_home  FG_PCT_home  FT_PCT_home  ...  \\\n",
      "25794    2014    1610612761      99.0        0.440        0.771  ...   \n",
      "25795    2014    1610612748      86.0        0.431        0.679  ...   \n",
      "\n",
      "       AST_home  REB_home  TEAM_ID_away  PTS_away  FG_PCT_away  FT_PCT_away  \\\n",
      "25794      21.0      30.0    1610612758      94.0        0.469        0.725   \n",
      "25795      18.0      42.0    1610612740      98.0        0.462        0.706   \n",
      "\n",
      "       FG3_PCT_away  AST_away  REB_away  HOME_TEAM_WINS  \n",
      "25794         0.385      18.0      45.0               1  \n",
      "25795         0.438      19.0      42.0               0  \n",
      "\n",
      "[2 rows x 21 columns]\n"
     ]
    }
   ],
   "source": [
    "print(games_df.tail(2))"
   ]
  },
  {
   "cell_type": "markdown",
   "metadata": {},
   "source": [
    "2018–19 NBA season (https://en.wikipedia.org/wiki/2018%E2%80%9319_NBA_season)\n",
    "\n",
    "\"The 2018–19 NBA season was the 73rd season of the National Basketball Association (NBA). The regular season began on October 16, 2018, and ended on April 10, 2019. The 2019 NBA All-Star Game was played on February 17, 2019, at the Spectrum Center in Charlotte, North Carolina. The playoffs began on April 13, 2019[1] and ended on June 13 with the Toronto Raptors defeating the defending NBA champion Golden State Warriors in the 2019 NBA Finals, becoming NBA champions for the first time in franchise history and the first team in NBA history to win a championship without a single lottery pick on the roster.\""
   ]
  },
  {
   "cell_type": "code",
   "execution_count": 6,
   "metadata": {},
   "outputs": [],
   "source": [
    "games_2018 = games_df[games_df['SEASON'] == 2018]  # season 2018-2019\n",
    "\n",
    "regular_start_2018 = '2018-10-16'\n",
    "regular_end_2018 = '2019-04-10'\n",
    "\n",
    "playoff_start_2018 = '2019-04-13'\n",
    "playoff_end_2018 = '2019-06-13'"
   ]
  },
  {
   "cell_type": "code",
   "execution_count": 7,
   "metadata": {},
   "outputs": [],
   "source": [
    "regulars_2018 = games_2018[(regular_start_2018 <= games_2018['GAME_DATE_EST'])\n",
    "                           & (games_2018['GAME_DATE_EST'] <= regular_end_2018)]\n",
    "\n",
    "playoff_2018 = games_2018[(playoff_start_2018 <= games_2018['GAME_DATE_EST'])\n",
    "                          & (games_2018['GAME_DATE_EST'] <= playoff_end_2018)]"
   ]
  },
  {
   "cell_type": "code",
   "execution_count": 8,
   "metadata": {},
   "outputs": [],
   "source": [
    "regulars_2018_sorted = regulars_2018.sort_values('GAME_DATE_EST')\n",
    "playoff_2018_sorted = playoff_2018.sort_values('GAME_DATE_EST')"
   ]
  },
  {
   "cell_type": "code",
   "execution_count": null,
   "metadata": {},
   "outputs": [],
   "source": []
  }
 ],
 "metadata": {
  "interpreter": {
   "hash": "afb9b6f2e294c35efdab535f16d9ee855d7192007ee534a2566f2126889ef330"
  },
  "kernelspec": {
   "display_name": "Python 3.10.1 ('env': venv)",
   "language": "python",
   "name": "python3"
  },
  "language_info": {
   "codemirror_mode": {
    "name": "ipython",
    "version": 3
   },
   "file_extension": ".py",
   "mimetype": "text/x-python",
   "name": "python",
   "nbconvert_exporter": "python",
   "pygments_lexer": "ipython3",
   "version": "3.10.1"
  },
  "orig_nbformat": 4
 },
 "nbformat": 4,
 "nbformat_minor": 2
}
