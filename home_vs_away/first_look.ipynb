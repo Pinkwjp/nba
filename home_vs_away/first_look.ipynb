{
 "cells": [
  {
   "cell_type": "markdown",
   "metadata": {},
   "source": [
    "***Question: do NBA teams win more at home than away?***"
   ]
  },
  {
   "cell_type": "code",
   "execution_count": 54,
   "metadata": {},
   "outputs": [
    {
     "name": "stdout",
     "output_type": "stream",
     "text": [
      "c:\\CODE\\proj\\nba\\home_vs_away\n"
     ]
    }
   ],
   "source": [
    "from pathlib import Path\n",
    "\n",
    "print(Path().cwd())"
   ]
  },
  {
   "cell_type": "code",
   "execution_count": 55,
   "metadata": {},
   "outputs": [],
   "source": [
    "games_csv_path = Path('../data/nba_games_data/games.csv') \n",
    "assert games_csv_path.exists()"
   ]
  },
  {
   "cell_type": "code",
   "execution_count": 56,
   "metadata": {},
   "outputs": [
    {
     "name": "stdout",
     "output_type": "stream",
     "text": [
      "(25796, 21)\n"
     ]
    }
   ],
   "source": [
    "import pandas as pd\n",
    "import numpy as np\n",
    "\n",
    "games_df = pd.read_csv(games_csv_path)\n",
    "print(games_df.shape)"
   ]
  },
  {
   "cell_type": "code",
   "execution_count": 57,
   "metadata": {},
   "outputs": [],
   "source": [
    "all_games = games_df.sort_values('GAME_DATE_EST', ascending=False)"
   ]
  },
  {
   "cell_type": "code",
   "execution_count": 58,
   "metadata": {},
   "outputs": [
    {
     "name": "stdout",
     "output_type": "stream",
     "text": [
      "  GAME_DATE_EST   GAME_ID GAME_STATUS_TEXT  HOME_TEAM_ID  VISITOR_TEAM_ID  \\\n",
      "0    2022-03-12  22101005            Final    1610612748       1610612750   \n",
      "4    2022-03-12  22101009            Final    1610612743       1610612761   \n",
      "\n",
      "   SEASON  TEAM_ID_home  PTS_home  FG_PCT_home  FT_PCT_home  ...  AST_home  \\\n",
      "0    2021    1610612748     104.0        0.398         0.76  ...      23.0   \n",
      "4    2021    1610612743     115.0        0.551         0.75  ...      32.0   \n",
      "\n",
      "   REB_home  TEAM_ID_away  PTS_away  FG_PCT_away  FT_PCT_away  FG3_PCT_away  \\\n",
      "0      53.0    1610612750     113.0        0.422        0.875         0.357   \n",
      "4      39.0    1610612761     127.0        0.471        0.760         0.387   \n",
      "\n",
      "   AST_away  REB_away  HOME_TEAM_WINS  \n",
      "0      21.0      46.0               0  \n",
      "4      28.0      50.0               0  \n",
      "\n",
      "[2 rows x 21 columns]\n"
     ]
    }
   ],
   "source": [
    "print(all_games.head(2))"
   ]
  },
  {
   "cell_type": "code",
   "execution_count": 59,
   "metadata": {},
   "outputs": [
    {
     "name": "stdout",
     "output_type": "stream",
     "text": [
      "      GAME_DATE_EST   GAME_ID GAME_STATUS_TEXT  HOME_TEAM_ID  VISITOR_TEAM_ID  \\\n",
      "18432    2003-10-06  10300002            Final    1610612763       1610612749   \n",
      "18433    2003-10-05  10300001            Final    1610612762       1610612742   \n",
      "\n",
      "       SEASON  TEAM_ID_home  PTS_home  FG_PCT_home  FT_PCT_home  ...  \\\n",
      "18432    2003    1610612763     105.0        0.494        0.618  ...   \n",
      "18433    2003    1610612762      90.0        0.457        0.735  ...   \n",
      "\n",
      "       AST_home  REB_home  TEAM_ID_away  PTS_away  FG_PCT_away  FT_PCT_away  \\\n",
      "18432      25.0      48.0    1610612749      94.0        0.427          0.7   \n",
      "18433      23.0      41.0    1610612742      85.0        0.447          0.5   \n",
      "\n",
      "       FG3_PCT_away  AST_away  REB_away  HOME_TEAM_WINS  \n",
      "18432         0.154      20.0      43.0               1  \n",
      "18433         0.250      20.0      38.0               1  \n",
      "\n",
      "[2 rows x 21 columns]\n"
     ]
    }
   ],
   "source": [
    "print(all_games.tail(2))"
   ]
  },
  {
   "cell_type": "code",
   "execution_count": 60,
   "metadata": {},
   "outputs": [
    {
     "name": "stdout",
     "output_type": "stream",
     "text": [
      "There are totally 25796 games in this dataset.\n",
      "The dataset spans from 2003 season to 2021 season\n",
      "The oldest game played in 2003-10-05.\n",
      "The latest game played in 2022-03-12.\n"
     ]
    }
   ],
   "source": [
    "num_games = all_games.shape[0]\n",
    "first_season = all_games.SEASON.min()\n",
    "last_season = all_games.SEASON.max()\n",
    "\n",
    "print(f'There are totally {num_games} games in this dataset.')\n",
    "print(f'The dataset spans from {first_season} season to {last_season} season')\n",
    "print(f'The oldest game played in {all_games.GAME_DATE_EST.min()}.')\n",
    "print(f'The latest game played in {all_games.GAME_DATE_EST.max()}.')"
   ]
  },
  {
   "cell_type": "code",
   "execution_count": 61,
   "metadata": {},
   "outputs": [
    {
     "name": "stdout",
     "output_type": "stream",
     "text": [
      "Total number of home win is 15155 out of total 25796 games.\n",
      "In total, the ratio of home win is 58.75% among all games in this dataset.\n"
     ]
    }
   ],
   "source": [
    "num_home_win = all_games.HOME_TEAM_WINS.sum() \n",
    "ratio_home_win = num_home_win / num_games\n",
    "\n",
    "print(f'Total number of home win is {num_home_win} out of total {num_games} games.')\n",
    "print(f'In total, the ratio of home win is {ratio_home_win:.2%} among all games in this dataset.')"
   ]
  },
  {
   "cell_type": "markdown",
   "metadata": {},
   "source": [
    "**Can we say that NBA teams win more at home?**\n",
    "\n",
    "Let's look at the games season by season."
   ]
  },
  {
   "cell_type": "code",
   "execution_count": 82,
   "metadata": {},
   "outputs": [],
   "source": [
    "seasons = range(first_season, last_season+1)\n",
    "home_win_ratios = []\n",
    "for s in seasons:\n",
    "    games = all_games[all_games['SEASON'] == s]\n",
    "    n_games = games.shape[0]\n",
    "    n_home_wins = games.HOME_TEAM_WINS.sum()\n",
    "    home_win_ratios.append(n_home_wins / n_games)\n",
    "home_win_ratios = np.array(home_win_ratios)"
   ]
  },
  {
   "cell_type": "code",
   "execution_count": 83,
   "metadata": {},
   "outputs": [
    {
     "data": {
      "image/png": "[encoded data removed]",
      "text/plain": [
       "<Figure size 720x360 with 1 Axes>"
      ]
     },
     "metadata": {
      "needs_background": "light"
     },
     "output_type": "display_data"
    }
   ],
   "source": [
    "import matplotlib.pyplot as plt \n",
    "\n",
    "plt.figure(figsize=(10, 5))\n",
    "plt.scatter(seasons, home_win_ratios)\n",
    "plt.xticks(seasons)\n",
    "plt.xlabel('Season')\n",
    "plt.ylabel('Home win ratio')\n",
    "plt.show()"
   ]
  },
  {
   "cell_type": "code",
   "execution_count": 86,
   "metadata": {},
   "outputs": [],
   "source": [
    "assert all(home_win_ratios > 0.5)"
   ]
  },
  {
   "cell_type": "markdown",
   "metadata": {},
   "source": [
    "So, for all the seasons from 2003 to 2021, there more home-win than away-win."
   ]
  },
  {
   "cell_type": "markdown",
   "metadata": {},
   "source": [
    "**How about different teams? Is that only good teams win more and win more home-games  \n",
    "or both good and bad teams win more home-games?**"
   ]
  },
  {
   "cell_type": "markdown",
   "metadata": {},
   "source": [
    "First, we need to ask the question: what is a good team?\n",
    "\n",
    "To simplify things, let's see a playoff team is better than a non-playoff team in each conference.  \n",
    "So let's see a playoff team is a good team and a non-playoff team is a bad team.  \n",
    "Then both Eastern Conference and Western Conference have 8 good teams and 7 bad teams"
   ]
  },
  {
   "cell_type": "markdown",
   "metadata": {},
   "source": [
    "\"Eastern Conference (NBA) \n",
    "The Eastern Conference is one of two conferences that make up the National Basketball Association (NBA), the other being the Western Conference. Both conferences consist of 15 teams organized into three divisions.  \n",
    "(https://en.wikipedia.org/wiki/Eastern_Conference_(NBA))\""
   ]
  },
  {
   "cell_type": "markdown",
   "metadata": {},
   "source": [
    "\"The original format returns to 82 games after two seasons with 67 and 72 games, the 2019-20 season was shortened by the Covid-19 pandemic and the 2020-21 by the aforementioned... (https://www.msn.com/en-us/sports/nba/nba-2021-22-how-many-games-are-in-the-nba-202122-season/ar-AAPEOcl)\""
   ]
  },
  {
   "cell_type": "code",
   "execution_count": null,
   "metadata": {},
   "outputs": [],
   "source": [
    "num_regular_games = 82 # not for 2019-20 and 2020-21 seasons\n",
    "\n",
    "# remove 2019 and beyond season\n"
   ]
  },
  {
   "cell_type": "markdown",
   "metadata": {},
   "source": [
    "2018–19 NBA season (https://en.wikipedia.org/wiki/2018%E2%80%9319_NBA_season)\n",
    "\n",
    "\"The 2018–19 NBA season was the 73rd season of the National Basketball Association (NBA). The regular season began on October 16, 2018, and ended on April 10, 2019. The 2019 NBA All-Star Game was played on February 17, 2019, at the Spectrum Center in Charlotte, North Carolina. The playoffs began on April 13, 2019[1] and ended on June 13 with the Toronto Raptors defeating the defending NBA champion Golden State Warriors in the 2019 NBA Finals, becoming NBA champions for the first time in franchise history and the first team in NBA history to win a championship without a single lottery pick on the roster.\""
   ]
  },
  {
   "cell_type": "code",
   "execution_count": null,
   "metadata": {},
   "outputs": [],
   "source": [
    "games_2018 = all_games[all_games['SEASON'] == 2018]  # season 2018-2019\n",
    "\n",
    "regular_start_2018 = '2018-10-16'\n",
    "regular_end_2018 = '2019-04-10'\n",
    "\n",
    "playoff_start_2018 = '2019-04-13'\n",
    "playoff_end_2018 = '2019-06-13'"
   ]
  },
  {
   "cell_type": "code",
   "execution_count": null,
   "metadata": {},
   "outputs": [],
   "source": [
    "regulars_2018 = games_2018[(regular_start_2018 <= games_2018['GAME_DATE_EST'])\n",
    "                           & (games_2018['GAME_DATE_EST'] <= regular_end_2018)]\n",
    "\n",
    "playoff_2018 = games_2018[(playoff_start_2018 <= games_2018['GAME_DATE_EST'])\n",
    "                          & (games_2018['GAME_DATE_EST'] <= playoff_end_2018)]"
   ]
  },
  {
   "cell_type": "code",
   "execution_count": null,
   "metadata": {},
   "outputs": [],
   "source": [
    "regulars_2018_sorted = regulars_2018.sort_values('GAME_DATE_EST')\n",
    "playoff_2018_sorted = playoff_2018.sort_values('GAME_DATE_EST')"
   ]
  },
  {
   "cell_type": "code",
   "execution_count": null,
   "metadata": {},
   "outputs": [
    {
     "name": "stdout",
     "output_type": "stream",
     "text": [
      "      GAME_DATE_EST   GAME_ID GAME_STATUS_TEXT  HOME_TEAM_ID  VISITOR_TEAM_ID  \\\n",
      "18888    2019-04-10  21801229            Final    1610612746       1610612762   \n",
      "18883    2019-04-10  21801224            Final    1610612755       1610612741   \n",
      "\n",
      "       SEASON  TEAM_ID_home  PTS_home  FG_PCT_home  FT_PCT_home  ...  \\\n",
      "18888    2018    1610612746     143.0        0.509        0.767  ...   \n",
      "18883    2018    1610612755     125.0        0.559        0.600  ...   \n",
      "\n",
      "       AST_home  REB_home  TEAM_ID_away  PTS_away  FG_PCT_away  FT_PCT_away  \\\n",
      "18888      34.0      52.0    1610612762     137.0        0.443        0.879   \n",
      "18883      30.0      47.0    1610612741     109.0        0.474        0.667   \n",
      "\n",
      "       FG3_PCT_away  AST_away  REB_away  HOME_TEAM_WINS  \n",
      "18888         0.400      31.0      57.0               1  \n",
      "18883         0.375      21.0      39.0               1  \n",
      "\n",
      "[2 rows x 21 columns]\n"
     ]
    }
   ],
   "source": [
    "print(regulars_2018.head(2))"
   ]
  },
  {
   "cell_type": "code",
   "execution_count": null,
   "metadata": {},
   "outputs": [],
   "source": [
    "GSW_team_id = 1610612744"
   ]
  }
 ],
 "metadata": {
  "interpreter": {
   "hash": "afb9b6f2e294c35efdab535f16d9ee855d7192007ee534a2566f2126889ef330"
  },
  "kernelspec": {
   "display_name": "Python 3.10.1 ('env': venv)",
   "language": "python",
   "name": "python3"
  },
  "language_info": {
   "codemirror_mode": {
    "name": "ipython",
    "version": 3
   },
   "file_extension": ".py",
   "mimetype": "text/x-python",
   "name": "python",
   "nbconvert_exporter": "python",
   "pygments_lexer": "ipython3",
   "version": "3.10.1"
  },
  "orig_nbformat": 4
 },
 "nbformat": 4,
 "nbformat_minor": 2
}
