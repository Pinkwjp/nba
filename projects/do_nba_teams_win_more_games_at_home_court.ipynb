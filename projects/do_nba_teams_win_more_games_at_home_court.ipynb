{
 "cells": [
  {
   "cell_type": "markdown",
   "metadata": {},
   "source": [
    "***Question: do NBA teams win more games at home court?***"
   ]
  },
  {
   "cell_type": "code",
   "execution_count": 119,
   "metadata": {},
   "outputs": [],
   "source": [
    "from pathlib import Path\n",
    "import pandas as pd\n",
    "import numpy as np\n",
    "\n",
    "games_csv_path = Path('../data/nba_games_data/games.csv') \n",
    "assert games_csv_path.exists()"
   ]
  },
  {
   "cell_type": "markdown",
   "metadata": {},
   "source": [
    "Explore the dataset a bit."
   ]
  },
  {
   "cell_type": "code",
   "execution_count": 120,
   "metadata": {},
   "outputs": [],
   "source": [
    "all_games = pd.read_csv(games_csv_path).sort_values('GAME_DATE_EST', ascending=False)"
   ]
  },
  {
   "cell_type": "code",
   "execution_count": 121,
   "metadata": {},
   "outputs": [
    {
     "name": "stdout",
     "output_type": "stream",
     "text": [
      "  GAME_DATE_EST   GAME_ID GAME_STATUS_TEXT  HOME_TEAM_ID  VISITOR_TEAM_ID  \\\n",
      "0    2022-03-12  22101005            Final    1610612748       1610612750   \n",
      "4    2022-03-12  22101009            Final    1610612743       1610612761   \n",
      "\n",
      "   SEASON  TEAM_ID_home  PTS_home  FG_PCT_home  FT_PCT_home  ...  AST_home  \\\n",
      "0    2021    1610612748     104.0        0.398         0.76  ...      23.0   \n",
      "4    2021    1610612743     115.0        0.551         0.75  ...      32.0   \n",
      "\n",
      "   REB_home  TEAM_ID_away  PTS_away  FG_PCT_away  FT_PCT_away  FG3_PCT_away  \\\n",
      "0      53.0    1610612750     113.0        0.422        0.875         0.357   \n",
      "4      39.0    1610612761     127.0        0.471        0.760         0.387   \n",
      "\n",
      "   AST_away  REB_away  HOME_TEAM_WINS  \n",
      "0      21.0      46.0               0  \n",
      "4      28.0      50.0               0  \n",
      "\n",
      "[2 rows x 21 columns]\n"
     ]
    }
   ],
   "source": [
    "print(all_games.head(2))"
   ]
  },
  {
   "cell_type": "code",
   "execution_count": 122,
   "metadata": {},
   "outputs": [
    {
     "name": "stdout",
     "output_type": "stream",
     "text": [
      "      GAME_DATE_EST   GAME_ID GAME_STATUS_TEXT  HOME_TEAM_ID  VISITOR_TEAM_ID  \\\n",
      "18432    2003-10-06  10300002            Final    1610612763       1610612749   \n",
      "18433    2003-10-05  10300001            Final    1610612762       1610612742   \n",
      "\n",
      "       SEASON  TEAM_ID_home  PTS_home  FG_PCT_home  FT_PCT_home  ...  \\\n",
      "18432    2003    1610612763     105.0        0.494        0.618  ...   \n",
      "18433    2003    1610612762      90.0        0.457        0.735  ...   \n",
      "\n",
      "       AST_home  REB_home  TEAM_ID_away  PTS_away  FG_PCT_away  FT_PCT_away  \\\n",
      "18432      25.0      48.0    1610612749      94.0        0.427          0.7   \n",
      "18433      23.0      41.0    1610612742      85.0        0.447          0.5   \n",
      "\n",
      "       FG3_PCT_away  AST_away  REB_away  HOME_TEAM_WINS  \n",
      "18432         0.154      20.0      43.0               1  \n",
      "18433         0.250      20.0      38.0               1  \n",
      "\n",
      "[2 rows x 21 columns]\n"
     ]
    }
   ],
   "source": [
    "print(all_games.tail(2))"
   ]
  },
  {
   "cell_type": "code",
   "execution_count": 123,
   "metadata": {},
   "outputs": [
    {
     "name": "stdout",
     "output_type": "stream",
     "text": [
      "There are totally 25796 games in this dataset.\n",
      "The dataset spans from 2003 season to 2021 season\n",
      "The oldest game played in 2003-10-05.\n",
      "The latest game played in 2022-03-12.\n"
     ]
    }
   ],
   "source": [
    "num_games = all_games.shape[0]\n",
    "first_season = all_games.SEASON.min()\n",
    "last_season = all_games.SEASON.max()\n",
    "\n",
    "print(f'There are totally {num_games} games in this dataset.')\n",
    "print(f'The dataset spans from {first_season} season to {last_season} season')\n",
    "print(f'The oldest game played in {all_games.GAME_DATE_EST.min()}.')\n",
    "print(f'The latest game played in {all_games.GAME_DATE_EST.max()}.')"
   ]
  },
  {
   "cell_type": "markdown",
   "metadata": {},
   "source": [
    "Among all the games, how many are won by home teams? Let's take a look."
   ]
  },
  {
   "cell_type": "code",
   "execution_count": 124,
   "metadata": {},
   "outputs": [
    {
     "name": "stdout",
     "output_type": "stream",
     "text": [
      "Total number of home win is 15155 out of total 25796 games.\n",
      "In total, the ratio of home win is 58.75% among all games in this dataset.\n"
     ]
    }
   ],
   "source": [
    "num_total_home_win = all_games.HOME_TEAM_WINS.sum() \n",
    "ratio_total_home_win = num_total_home_win / num_games\n",
    "\n",
    "print(f'Total number of home win is {num_total_home_win} out of total {num_games} games.')\n",
    "print(f'In total, the ratio of home win is {ratio_total_home_win:.2%} among all games in this dataset.')"
   ]
  },
  {
   "cell_type": "markdown",
   "metadata": {},
   "source": [
    "**Can we say that NBA teams win more at home?**  \n",
    "A 58.8% ratio do not give us lots of confidence to say so.  \n",
    "In different seasons there might be (drastically) different ratio.  \n",
    "Let's look at the games season by season."
   ]
  },
  {
   "cell_type": "code",
   "execution_count": 125,
   "metadata": {},
   "outputs": [],
   "source": [
    "all_seasons = range(first_season, last_season+1)\n",
    "home_win_ratio_all_seasons = []\n",
    "for s in all_seasons:\n",
    "    games = all_games[all_games['SEASON'] == s]\n",
    "    n_games = games.shape[0]\n",
    "    n_home_wins = games.HOME_TEAM_WINS.sum()\n",
    "    home_win_ratio_all_seasons.append(n_home_wins / n_games)\n",
    "home_win_ratio_all_seasons = np.array(home_win_ratio_all_seasons)"
   ]
  },
  {
   "cell_type": "code",
   "execution_count": 126,
   "metadata": {},
   "outputs": [
    {
     "data": {
      "image/png": "[encoded data removed]",
      "text/plain": [
       "<Figure size 720x360 with 1 Axes>"
      ]
     },
     "metadata": {
      "needs_background": "light"
     },
     "output_type": "display_data"
    }
   ],
   "source": [
    "import matplotlib.pyplot as plt \n",
    "\n",
    "plt.figure(figsize=(10, 5))\n",
    "plt.scatter(all_seasons, home_win_ratio_all_seasons)\n",
    "plt.xticks(all_seasons)\n",
    "plt.xlabel('Season')\n",
    "plt.ylabel('Overall home win ratio')\n",
    "plt.show()"
   ]
  },
  {
   "cell_type": "markdown",
   "metadata": {},
   "source": [
    "Is that all these seasons have a home win ratio lager than 0.5? Let's confirm."
   ]
  },
  {
   "cell_type": "code",
   "execution_count": 127,
   "metadata": {},
   "outputs": [],
   "source": [
    "assert all(home_win_ratio_all_seasons > 0.5)"
   ]
  },
  {
   "cell_type": "markdown",
   "metadata": {},
   "source": [
    "So, for all the seasons from 2003 to 2021, overall, there are more home-wins than away-wins.  \n",
    "(home-win: won by home team, away-win: won by visiting team)"
   ]
  },
  {
   "cell_type": "markdown",
   "metadata": {},
   "source": [
    "**How about different teams?   \n",
    "It maybe that the good teams just won more games (home-games and away-games) and then  \n",
    "inflated the overall home win ratio across each seaon.**  \n",
    "Let's verify."
   ]
  },
  {
   "cell_type": "markdown",
   "metadata": {},
   "source": [
    "But first, we need to ask a question: **what is a good team?**\n",
    "\n",
    "To simplify things, let's see a playoff team is better than a non-playoff team in each conference.   \n",
    "I believe most NBA fans will agree with this. However, a bipartite division of Eastern, Western  \n",
    "conferences is still somewhat arbitrary.  \n",
    "So let's see a playoff team is a good team and a non-playoff team is a bad team.  "
   ]
  },
  {
   "cell_type": "markdown",
   "metadata": {},
   "source": [
    "First, let's have the team information ready."
   ]
  },
  {
   "cell_type": "code",
   "execution_count": 128,
   "metadata": {},
   "outputs": [
    {
     "name": "stdout",
     "output_type": "stream",
     "text": [
      "   LEAGUE_ID     TEAM_ID  MIN_YEAR  MAX_YEAR ABBREVIATION NICKNAME  \\\n",
      "0          0  1610612737      1949      2019          ATL    Hawks   \n",
      "1          0  1610612738      1946      2019          BOS  Celtics   \n",
      "\n",
      "   YEARFOUNDED     CITY             ARENA  ARENACAPACITY          OWNER  \\\n",
      "0         1949  Atlanta  State Farm Arena        18729.0   Tony Ressler   \n",
      "1         1946   Boston         TD Garden        18624.0  Wyc Grousbeck   \n",
      "\n",
      "   GENERALMANAGER     HEADCOACH DLEAGUEAFFILIATION  \n",
      "0  Travis Schlenk  Lloyd Pierce      Erie Bayhawks  \n",
      "1     Danny Ainge  Brad Stevens    Maine Red Claws  \n"
     ]
    }
   ],
   "source": [
    "teams_csv_path = Path('../data/nba_games_data/teams.csv')\n",
    "assert teams_csv_path.exists()\n",
    "\n",
    "teams = pd.read_csv(teams_csv_path)\n",
    "assert teams.shape[0] == 30  # total 30 teams in NBA\n",
    "\n",
    "print(teams.head(2))"
   ]
  },
  {
   "cell_type": "code",
   "execution_count": 129,
   "metadata": {},
   "outputs": [],
   "source": [
    "# TODO: put this into a utils module or make a api for the data files\n",
    "def team_nickname(team_id: int) -> str:\n",
    "    return teams.loc[teams['TEAM_ID'] == team_id, 'NICKNAME'].iloc[0]\n",
    "\n",
    "assert team_nickname(1610612738) == 'Celtics'"
   ]
  },
  {
   "cell_type": "code",
   "execution_count": 130,
   "metadata": {},
   "outputs": [],
   "source": [
    "from typing import Set\n",
    "\n",
    "# TODO: put this into a utils module or make a api for the data files\n",
    "def playoff_team_ids(season_games: pd.DataFrame) -> Set[int]:\n",
    "    \"\"\"\n",
    "    return team ids of all playoff teams in a season\n",
    "    \n",
    "    season_games -- all the games in a season, including regular and playoff games,\n",
    "                    may include preseason games.\n",
    "                    \n",
    "    Note: the 16 teams that played later in the season are the playoff teams  \n",
    "    \"\"\"\n",
    "    home_team_ids = season_games.sort_values('GAME_DATE_EST', ascending=False).HOME_TEAM_ID\n",
    "    team_ids = set()\n",
    "    for id in home_team_ids:\n",
    "        if id not in team_ids:\n",
    "            team_ids.add(id)\n",
    "        if len(team_ids) == 16:\n",
    "            break \n",
    "    return team_ids\n",
    "\n",
    "# TODO: put this into a utils module or make a api for the data files\n",
    "def non_playoff_team_ids(season_games: pd.DataFrame) -> Set[int]: \n",
    "    return set(teams.TEAM_ID) - playoff_team_ids(season_games)"
   ]
  },
  {
   "cell_type": "code",
   "execution_count": 131,
   "metadata": {},
   "outputs": [
    {
     "name": "stdout",
     "output_type": "stream",
     "text": [
      "2009 season playoff teams:\n",
      "{'Jazz', 'Thunder', 'Nuggets', 'Bulls', 'Celtics', 'Hawks', 'Lakers', 'Cavaliers', 'Magic', 'Mavericks', 'Hornets', 'Spurs', 'Heat', 'Trail Blazers', 'Suns', 'Bucks'}\n",
      "\n",
      "2009 season non-playoff teams:\n",
      "{'Wizards', '76ers', 'Timberwolves', 'Pistons', 'Kings', 'Nets', 'Clippers', 'Warriors', 'Grizzlies', 'Knicks', 'Rockets', 'Raptors', 'Pelicans', 'Pacers'}\n"
     ]
    }
   ],
   "source": [
    "games_2009 = all_games[all_games['SEASON'] == 2009]\n",
    "names_2009_playoff = set(team_nickname(id) for id in playoff_team_ids(games_2009))\n",
    "assert len(names_2009_playoff) == 16\n",
    "\n",
    "names_2009_non_playoff = set(team_nickname(id) for id in non_playoff_team_ids(games_2009))\n",
    "assert len(names_2009_non_playoff) == 14\n",
    "\n",
    "assert (names_2009_playoff & names_2009_non_playoff) == set()\n",
    "\n",
    "print('2009 season playoff teams:')\n",
    "print(names_2009_playoff)\n",
    "print()\n",
    "print('2009 season non-playoff teams:')\n",
    "print(names_2009_non_playoff)"
   ]
  },
  {
   "cell_type": "markdown",
   "metadata": {},
   "source": [
    "Now we are able to seperate the playoff teams from the non-playoff teams, let's see how  \n",
    "each group do in each season."
   ]
  },
  {
   "cell_type": "markdown",
   "metadata": {},
   "source": [
    "First, make some helper functions to find out a team's win ratios at home and away."
   ]
  },
  {
   "cell_type": "code",
   "execution_count": 132,
   "metadata": {},
   "outputs": [],
   "source": [
    "def home_game_win_ratio(all_games: pd.DataFrame, team_id: int) -> float:\n",
    "    \"\"\"\n",
    "    return the home game win ratio of a team in a season\n",
    "\n",
    "    all_games -- all games from all teams in a season\n",
    "    \"\"\"\n",
    "    if not team_id in set(all_games.HOME_TEAM_ID):\n",
    "        return np.nan\n",
    "    home_games = all_games[all_games['HOME_TEAM_ID'] == team_id]\n",
    "    num_home_games = home_games.shape[0]\n",
    "    if num_home_games == 0:\n",
    "        print(f'hey, team {team_id} has 0 home game.')\n",
    "    num_home_wins = home_games['HOME_TEAM_WINS'].sum()\n",
    "    return num_home_wins / num_home_games\n",
    "\n",
    "\n",
    "def away_game_win_ratio(all_games: pd.DataFrame, team_id: int) -> float:\n",
    "    \"\"\"\n",
    "    return the away game win ratio of a team in a season\n",
    "\n",
    "    all_games -- all games from all teams in a season\n",
    "    \"\"\"\n",
    "    if not team_id in set(all_games.VISITOR_TEAM_ID):\n",
    "        return np.nan\n",
    "    away_games = all_games[all_games['VISITOR_TEAM_ID'] == team_id]\n",
    "    num_away_games = away_games.shape[0]\n",
    "    if num_away_games == 0:\n",
    "        print(f'hey, team {team_id} has 0 away game.')\n",
    "    num_away_wins = num_away_games - away_games['HOME_TEAM_WINS'].sum()\n",
    "    return num_away_wins / num_away_games"
   ]
  },
  {
   "cell_type": "markdown",
   "metadata": {},
   "source": [
    "Add a small test to make sure the functions actually work."
   ]
  },
  {
   "cell_type": "code",
   "execution_count": 133,
   "metadata": {},
   "outputs": [
    {
     "name": "stdout",
     "output_type": "stream",
     "text": [
      "      GAME_DATE_EST   GAME_ID GAME_STATUS_TEXT  HOME_TEAM_ID  VISITOR_TEAM_ID  \\\n",
      "10000    2009-06-14  40800405            Final    1610612753       1610612747   \n",
      "10001    2009-06-11  40800404            Final    1610612753       1610612747   \n",
      "\n",
      "       SEASON  TEAM_ID_home  PTS_home  FG_PCT_home  FT_PCT_home  ...  \\\n",
      "10000    2008    1610612753      86.0        0.415        0.625  ...   \n",
      "10001    2008    1610612753      91.0        0.419        0.595  ...   \n",
      "\n",
      "       AST_home  REB_home  TEAM_ID_away  PTS_away  FG_PCT_away  FT_PCT_away  \\\n",
      "10000      20.0      36.0    1610612747      99.0        0.438         0.75   \n",
      "10001      17.0      41.0    1610612747      99.0        0.418         0.75   \n",
      "\n",
      "       FG3_PCT_away  AST_away  REB_away  HOME_TEAM_WINS  \n",
      "10000         0.500      13.0      47.0               0  \n",
      "10001         0.348      15.0      39.0               0  \n",
      "\n",
      "[2 rows x 21 columns]\n"
     ]
    }
   ],
   "source": [
    "games_2_games_in_2008 = all_games[all_games['SEASON'] == 2008].head(2)\n",
    "print(games_2_games_in_2008)\n",
    "\n",
    "assert home_game_win_ratio(games_2_games_in_2008, 1610612753) == 0.0\n",
    "assert away_game_win_ratio(games_2_games_in_2008, 1610612747) == 1.0"
   ]
  },
  {
   "cell_type": "markdown",
   "metadata": {},
   "source": [
    "Check the home win ratios for all playoff teams across multiple seasons"
   ]
  },
  {
   "cell_type": "code",
   "execution_count": 134,
   "metadata": {},
   "outputs": [
    {
     "name": "stdout",
     "output_type": "stream",
     "text": [
      "home:\n",
      "count    256.000000\n",
      "mean       0.694086\n",
      "std        0.095695\n",
      "min        0.404255\n",
      "25%        0.630435\n",
      "50%        0.692308\n",
      "75%        0.760909\n",
      "max        0.927273\n",
      "dtype: float64\n",
      "\n",
      "away:\n",
      "count    256.000000\n",
      "mean       0.494017\n",
      "std        0.097550\n",
      "min        0.282609\n",
      "25%        0.419167\n",
      "50%        0.489796\n",
      "75%        0.560625\n",
      "max        0.773585\n",
      "dtype: float64\n"
     ]
    }
   ],
   "source": [
    "seasons = range(first_season, 2019) # exclude 2019-20 season and beyond \n",
    "\n",
    "playoff_teams_home_win_ratios = []\n",
    "playoff_teams_away_win_ratios = []\n",
    "\n",
    "for s in seasons:\n",
    "    games = all_games[all_games['SEASON'] == s]\n",
    "    team_ids = playoff_team_ids(games)\n",
    "    ratios = [home_game_win_ratio(games, id) for id in team_ids]\n",
    "    away_ratios = [away_game_win_ratio(games, id) for id in team_ids]\n",
    "    playoff_teams_home_win_ratios.extend(ratios)\n",
    "    playoff_teams_away_win_ratios.extend(away_ratios)\n",
    "\n",
    "s_playoff_teams_home = pd.Series(playoff_teams_home_win_ratios)\n",
    "s_playoff_teams_away = pd.Series(playoff_teams_away_win_ratios)\n",
    "\n",
    "print('home:')\n",
    "print(s_playoff_teams_home.describe())\n",
    "print()\n",
    "print('away:')\n",
    "print(s_playoff_teams_away.describe())"
   ]
  },
  {
   "cell_type": "markdown",
   "metadata": {},
   "source": [
    "As we can see from above, playoff teams had a higher win ratio at home."
   ]
  },
  {
   "cell_type": "code",
   "execution_count": 135,
   "metadata": {},
   "outputs": [
    {
     "data": {
      "image/png": "[encoded data removed]",
      "text/plain": [
       "<Figure size 720x432 with 2 Axes>"
      ]
     },
     "metadata": {
      "needs_background": "light"
     },
     "output_type": "display_data"
    }
   ],
   "source": [
    "plt.rc('font', size=14)    #controls default text size\n",
    "\n",
    "fig, (ax1, ax2) = plt.subplots(1, 2)\n",
    "\n",
    "ax1.hist(s_playoff_teams_home, bins='auto')\n",
    "ax1.set(xlabel='win ratio', ylabel='count')\n",
    "ax1.set_title('home')\n",
    "ax1.axvline(x=0.5, ymin=0, ymax=50, color='k', linestyle=':')\n",
    "\n",
    "ax2.hist(s_playoff_teams_away, bins='auto')\n",
    "ax2.set(xlabel='win ratio', ylabel='count')\n",
    "ax2.set_title('away')\n",
    "ax2.axvline(x=0.5, ymin=0, ymax=50, color='k', linestyle=':')\n",
    "\n",
    "fig.suptitle('playoff teams', fontsize=18)\n",
    "fig.tight_layout(w_pad=2)\n",
    "fig.set_figwidth(10)\n",
    "fig.set_figheight(6)\n",
    "\n",
    "plt.show()"
   ]
  },
  {
   "cell_type": "markdown",
   "metadata": {},
   "source": [
    "As we see from the histogram plot, most of the playoff teams have home-win ratio larger than 0.5,  \n",
    "and the away-win ratio seems around 0.5.  \n",
    "let's see how what is the percentage is."
   ]
  },
  {
   "cell_type": "code",
   "execution_count": 136,
   "metadata": {},
   "outputs": [
    {
     "name": "stdout",
     "output_type": "stream",
     "text": [
      "For playoff teams across many seasons, 96.48% won more than half of their home games.\n"
     ]
    }
   ],
   "source": [
    "num_home_win_team = s_playoff_teams_home[s_playoff_teams_home > 0.5].shape[0]\n",
    "ratio = num_home_win_team / s_playoff_teams_home.shape[0]\n",
    "\n",
    "print(f'For playoff teams across many seasons, {ratio:.2%} won more than half of their home games.')"
   ]
  },
  {
   "cell_type": "code",
   "execution_count": 137,
   "metadata": {},
   "outputs": [
    {
     "name": "stdout",
     "output_type": "stream",
     "text": [
      "For playoff teams across many seasons, only 44.53% won more than half of their away games.\n"
     ]
    }
   ],
   "source": [
    "num_away_win_team = s_playoff_teams_away[s_playoff_teams_away > 0.5].shape[0]\n",
    "away_ratio = num_away_win_team / s_playoff_teams_away.shape[0]\n",
    "\n",
    "print(f'For playoff teams across many seasons, only {away_ratio:.2%} won more than half of their away games.')"
   ]
  },
  {
   "cell_type": "markdown",
   "metadata": {},
   "source": [
    "**How did the non-playoff teams perform in their home-games vs away-games?** "
   ]
  },
  {
   "cell_type": "code",
   "execution_count": 138,
   "metadata": {},
   "outputs": [
    {
     "name": "stdout",
     "output_type": "stream",
     "text": [
      "non-playoff teams overall win ratios\n",
      "home:\n",
      "count    223.000000\n",
      "mean       0.461329\n",
      "std        0.117119\n",
      "min        0.147059\n",
      "25%        0.384358\n",
      "50%        0.466667\n",
      "75%        0.545455\n",
      "max        0.750000\n",
      "dtype: float64\n",
      "\n",
      "away:\n",
      "count    223.000000\n",
      "mean       0.289334\n",
      "std        0.094808\n",
      "min        0.066667\n",
      "25%        0.219512\n",
      "50%        0.288889\n",
      "75%        0.348837\n",
      "max        0.555556\n",
      "dtype: float64\n"
     ]
    }
   ],
   "source": [
    "seasons = range(first_season, 2019) # exclude 2019 and beyond\n",
    "\n",
    "non_playoff_teams_home_win_ratios = []\n",
    "non_playoff_teams_away_win_ratios = []\n",
    "\n",
    "for s in seasons:\n",
    "    games = all_games[all_games['SEASON'] == s]\n",
    "    team_ids = non_playoff_team_ids(games)\n",
    "    ratios = [home_game_win_ratio(games, id) for id in team_ids]\n",
    "    ratios_away = [away_game_win_ratio(games, id) for id in team_ids]\n",
    "    non_playoff_teams_home_win_ratios.extend(ratios)\n",
    "    non_playoff_teams_away_win_ratios.extend(ratios_away)\n",
    "\n",
    "s_non_playoff_teams_home = pd.Series(non_playoff_teams_home_win_ratios)\n",
    "s_non_playoff_teams_away = pd.Series(non_playoff_teams_away_win_ratios)\n",
    "\n",
    "print('non-playoff teams overall win ratios')\n",
    "print('home:', s_non_playoff_teams_home.describe(), sep='\\n')\n",
    "print()\n",
    "print('away:', s_non_playoff_teams_away.describe(), sep='\\n')"
   ]
  },
  {
   "cell_type": "markdown",
   "metadata": {},
   "source": [
    "Let's see how the non-playoff teams did."
   ]
  },
  {
   "cell_type": "code",
   "execution_count": 139,
   "metadata": {},
   "outputs": [
    {
     "data": {
      "image/png": "[encoded data removed]",
      "text/plain": [
       "<Figure size 720x432 with 2 Axes>"
      ]
     },
     "metadata": {
      "needs_background": "light"
     },
     "output_type": "display_data"
    }
   ],
   "source": [
    "plt.rc('font', size=14)    #controls default text size\n",
    "\n",
    "fig, (ax1, ax2) = plt.subplots(1, 2)\n",
    "\n",
    "ax1.hist(s_non_playoff_teams_home, bins='auto')\n",
    "ax1.set(xlabel='ratio', ylabel='count')\n",
    "ax1.set_title('home')\n",
    "ax1.axvline(x=0.5, ymin=0, ymax=50, color='k', linestyle=':')\n",
    "\n",
    "ax2.hist(s_non_playoff_teams_away, bins='auto')\n",
    "ax2.set(xlabel='ratio', ylabel='count')\n",
    "ax2.set_title('away')\n",
    "ax2.axvline(x=0.5, ymin=0, ymax=50, color='k', linestyle=':')\n",
    "\n",
    "fig.suptitle('non-playoff teams game-win ratio', fontsize=18)\n",
    "fig.tight_layout(w_pad=2)\n",
    "fig.set_figwidth(10)\n",
    "fig.set_figheight(6)\n",
    "\n",
    "plt.show()"
   ]
  },
  {
   "cell_type": "markdown",
   "metadata": {},
   "source": [
    "Just as playoff teams, non-playoff teams also have a higher win ratio at home than away. \n",
    " \n",
    "It seems like for both playoff teams and non-playoff teams, there is  \n",
    "a significant difference of about 0.2 between the win ratios of home  \n",
    "and away games. Let's verify.  "
   ]
  },
  {
   "cell_type": "code",
   "execution_count": 140,
   "metadata": {},
   "outputs": [
    {
     "name": "stdout",
     "output_type": "stream",
     "text": [
      "Playoff teams average home away win ratio difference: 0.200.\n",
      "Non-playoff teams average home away win ratio difference: 0.172.\n"
     ]
    }
   ],
   "source": [
    "diff_playoff_teams = s_playoff_teams_home.mean() - s_playoff_teams_away.mean()\n",
    "diff_non_playoff_teams = s_non_playoff_teams_home.mean() - s_non_playoff_teams_away.mean()\n",
    "\n",
    "print(f'Playoff teams average home away win ratio difference: {diff_playoff_teams:.3f}.')\n",
    "print(f'Non-playoff teams average home away win ratio difference: {diff_non_playoff_teams:.3f}.')"
   ]
  },
  {
   "cell_type": "markdown",
   "metadata": {},
   "source": [
    "So, it seems like that having a win ratio at home-games higher than away-games is a  \n",
    "situation across all the teams. **But how confident can we say that the home-win ratio  \n",
    "is actually diffrent from away-win ratio?**"
   ]
  },
  {
   "cell_type": "markdown",
   "metadata": {},
   "source": [
    "Define a permutation test function"
   ]
  },
  {
   "cell_type": "code",
   "execution_count": 141,
   "metadata": {},
   "outputs": [],
   "source": [
    "def permutation_test(data_array_a: np.ndarray, data_array_b: np.ndarray):\n",
    "    data_mean_a = data_array_a.mean()\n",
    "    data_mean_b = data_array_b.mean()\n",
    "    extreme_mean_difference = abs(data_mean_a - data_mean_b)\n",
    "    total_data = np.hstack([data_array_a, data_array_b])\n",
    "    number_extreme_values = 0.0\n",
    "    for _ in range(30000):\n",
    "        np.random.shuffle(total_data)\n",
    "        sample_a = total_data[:data_array_a.size]\n",
    "        sample_b = total_data[data_array_a.size:]\n",
    "    if abs(sample_a.mean() - sample_b.mean()) >= extreme_mean_difference:\n",
    "        number_extreme_values += 1\n",
    "    p_value = number_extreme_values / 30000\n",
    "    return p_value"
   ]
  },
  {
   "cell_type": "markdown",
   "metadata": {},
   "source": [
    "First look at playoff teams:"
   ]
  },
  {
   "cell_type": "code",
   "execution_count": 142,
   "metadata": {},
   "outputs": [
    {
     "name": "stdout",
     "output_type": "stream",
     "text": [
      "0.0\n"
     ]
    }
   ],
   "source": [
    "p_value_playoff_team = permutation_test(s_playoff_teams_home, s_playoff_teams_away)\n",
    "\n",
    "assert p_value_playoff_team < 0.05\n",
    "print(p_value_playoff_team)"
   ]
  },
  {
   "cell_type": "markdown",
   "metadata": {},
   "source": [
    "Not surprisingly, for playoff teams, their home-win ratio is statistically different from away-win ratio."
   ]
  },
  {
   "cell_type": "markdown",
   "metadata": {},
   "source": [
    "Now look at non-playoff teams:"
   ]
  },
  {
   "cell_type": "code",
   "execution_count": 143,
   "metadata": {},
   "outputs": [
    {
     "name": "stdout",
     "output_type": "stream",
     "text": [
      "0.0\n"
     ]
    }
   ],
   "source": [
    "p_value_nonplayoff_team = permutation_test(s_non_playoff_teams_home, s_non_playoff_teams_away)\n",
    "\n",
    "assert p_value_nonplayoff_team < 0.05\n",
    "print(p_value_nonplayoff_team)"
   ]
  },
  {
   "cell_type": "markdown",
   "metadata": {},
   "source": [
    "Still, for non-playoff teams, their home-win ratio is also statistically different from away-win ratio."
   ]
  },
  {
   "cell_type": "markdown",
   "metadata": {},
   "source": [
    "So we are pretty confident to say that, **for all nba teams in from 2003 to 2019 seasons, they hava   \n",
    "a higher and statistically different home-win ratio than away-win ratio**."
   ]
  },
  {
   "cell_type": "markdown",
   "metadata": {},
   "source": [
    "**How much is the difference between home-win ratio and away-win ratio?**"
   ]
  },
  {
   "cell_type": "code",
   "execution_count": 144,
   "metadata": {},
   "outputs": [],
   "source": [
    "differences_home_away_ratio = []\n",
    "\n",
    "for s in all_seasons:\n",
    "    games = all_games[all_games['SEASON'] == s]\n",
    "    teams = set(games.HOME_TEAM_ID)\n",
    "    for t in teams:\n",
    "        home_win_ratio = home_game_win_ratio(games, t)\n",
    "        away_win_ratio = away_game_win_ratio(games, t)\n",
    "        differences_home_away_ratio.append((s, t, home_win_ratio - away_win_ratio))\n",
    "\n",
    "df_ratio_differences = pd.DataFrame(differences_home_away_ratio, \n",
    "                                    columns=['SEASON', 'TEAM_ID', 'HOME_AWAY_WIN_RATIO_DIFFERENCE'])\n"
   ]
  },
  {
   "cell_type": "code",
   "execution_count": 145,
   "metadata": {},
   "outputs": [
    {
     "data": {
      "image/png": "[encoded data removed]",
      "text/plain": [
       "<Figure size 432x288 with 1 Axes>"
      ]
     },
     "metadata": {
      "needs_background": "light"
     },
     "output_type": "display_data"
    }
   ],
   "source": [
    "plt.hist(df_ratio_differences.HOME_AWAY_WIN_RATIO_DIFFERENCE, bins='auto', density=True)\n",
    "plt.xlabel('win ratio difference')\n",
    "plt.ylabel('relative likelyhood')\n",
    "plt.show()"
   ]
  },
  {
   "cell_type": "code",
   "execution_count": 151,
   "metadata": {},
   "outputs": [],
   "source": [
    "from scipy import stats\n",
    "\n",
    "x = df_ratio_differences.HOME_AWAY_WIN_RATIO_DIFFERENCE\n",
    "\n",
    "(test_statistic, critical_values, significance_level) = stats.anderson(x, dist='norm')\n",
    "\n",
    "assert np.all(\n",
    "    np.array(critical_values) > test_statistic) "
   ]
  },
  {
   "cell_type": "markdown",
   "metadata": {},
   "source": [
    "The anderson test confirms that the home-away-win-ratio-difference follow a normal distribution.  \n",
    "Based on this fact, we can learn more about the ratio difference."
   ]
  },
  {
   "cell_type": "code",
   "execution_count": 158,
   "metadata": {},
   "outputs": [
    {
     "name": "stdout",
     "output_type": "stream",
     "text": [
      "(0.17135200596992045, 0.11277576596957863)\n",
      "(-0.0496844336593715, 0.3923884455992124)\n"
     ]
    }
   ],
   "source": [
    "from scipy import stats\n",
    "\n",
    "(loc, scale) = shape_parameters = stats.norm.fit(x)\n",
    "\n",
    "print(shape_parameters)\n",
    "\n",
    "end_points = stats.norm.interval(0.95, loc=loc, scale=scale)\n",
    "print(end_points)"
   ]
  },
  {
   "cell_type": "markdown",
   "metadata": {},
   "source": [
    "So, on average, home-win-ratio is 0.17 higher than away-win-ratio.  \n",
    "We are 95 percent confident that for any given time, the home-away-win-ratio-difference  \n",
    "will be within the interval from -0.049 to 0.39, so most of the teams will win more at home court.  "
   ]
  },
  {
   "cell_type": "code",
   "execution_count": 164,
   "metadata": {},
   "outputs": [
    {
     "data": {
      "image/png": "[encoded data removed]",
      "text/plain": [
       "<Figure size 432x288 with 1 Axes>"
      ]
     },
     "metadata": {
      "needs_background": "light"
     },
     "output_type": "display_data"
    }
   ],
   "source": [
    "x = np.linspace(-0.3, 0.8, num=1000)\n",
    "\n",
    "data = stats.norm.rvs(size=100000, loc=loc, scale=scale)\n",
    "hist = np.histogram(data, bins=100)\n",
    "hist_dist = stats.rv_histogram(hist)\n",
    "\n",
    "plt.plot(x, hist_dist.pdf(x), label='pdf')\n",
    "plt.legend()\n",
    "plt.show()"
   ]
  },
  {
   "cell_type": "markdown",
   "metadata": {},
   "source": [
    "Now the more difficult question is: **Why NBA teams win more games at home than away?**   \n",
    "This question will be left for future projects to answer."
   ]
  }
 ],
 "metadata": {
  "interpreter": {
   "hash": "afb9b6f2e294c35efdab535f16d9ee855d7192007ee534a2566f2126889ef330"
  },
  "kernelspec": {
   "display_name": "Python 3.10.1 ('env': venv)",
   "language": "python",
   "name": "python3"
  },
  "language_info": {
   "codemirror_mode": {
    "name": "ipython",
    "version": 3
   },
   "file_extension": ".py",
   "mimetype": "text/x-python",
   "name": "python",
   "nbconvert_exporter": "python",
   "pygments_lexer": "ipython3",
   "version": "3.10.1"
  },
  "orig_nbformat": 4
 },
 "nbformat": 4,
 "nbformat_minor": 2
}
